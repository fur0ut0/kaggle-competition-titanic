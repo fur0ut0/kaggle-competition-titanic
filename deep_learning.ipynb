{
 "cells": [
  {
   "cell_type": "code",
   "execution_count": 3,
   "metadata": {},
   "outputs": [
    {
     "data": {
      "text/plain": [
       "PosixPath('input')"
      ]
     },
     "execution_count": 3,
     "metadata": {},
     "output_type": "execute_result"
    }
   ],
   "source": [
    "from pathlib import Path\n",
    "\n",
    "import numpy\n",
    "import pandas\n",
    "import torch.utils\n",
    "\n",
    "kaggle_input_root = Path(\"/kaggle/input/titanic\")\n",
    "local_input_root = Path(\"input\")\n",
    "\n",
    "input_root = local_input_root\n",
    "if kaggle_input_root.exists():\n",
    "    input_root = kaggle_input_root\n",
    "\n",
    "input_root"
   ]
  },
  {
   "cell_type": "code",
   "execution_count": 5,
   "metadata": {},
   "outputs": [
    {
     "name": "stdout",
     "output_type": "stream",
     "text": [
      "size of train data = 801\n",
      "size of validate data = 90\n"
     ]
    }
   ],
   "source": [
    "train_data = pandas.read_csv(input_root / \"train.csv\")\n",
    "\n",
    "# Use 90% as train data, 10% as validate data\n",
    "total = len(train_data)\n",
    "train_size = total * 9 // 10\n",
    "validate_data = train_data[train_size:]\n",
    "train_data = train_data[:train_size]\n",
    "\n",
    "print(f\"size of train data = {len(train_data)}\")\n",
    "print(f\"size of validate data = {len(validate_data)}\")"
   ]
  },
  {
   "cell_type": "code",
   "execution_count": 14,
   "metadata": {},
   "outputs": [
    {
     "name": "stdout",
     "output_type": "stream",
     "text": [
      "     Pclass   Age  SibSp  Parch  Sex_female  Sex_male\n",
      "0         3  22.0      1      0       False      True\n",
      "1         1  38.0      1      0        True     False\n",
      "2         3  26.0      0      0        True     False\n",
      "3         1  35.0      1      0        True     False\n",
      "4         3  35.0      0      0       False      True\n",
      "..      ...   ...    ...    ...         ...       ...\n",
      "796       1  49.0      0      0        True     False\n",
      "797       3  31.0      0      0        True     False\n",
      "798       3  30.0      0      0       False      True\n",
      "799       3  30.0      1      1        True     False\n",
      "800       2  34.0      0      0       False      True\n",
      "\n",
      "[801 rows x 6 columns]\n",
      "[[3 22.0 1 0 False True]\n",
      " [1 38.0 1 0 True False]\n",
      " [3 26.0 0 0 True False]\n",
      " ...\n",
      " [3 30.0 0 0 False True]\n",
      " [3 30.0 1 1 True False]\n",
      " [2 34.0 0 0 False True]]\n"
     ]
    },
    {
     "data": {
      "text/plain": [
       "(tensor([ 3., 22.,  1.,  0.,  0.,  1.]), tensor(0.))"
      ]
     },
     "execution_count": 14,
     "metadata": {},
     "output_type": "execute_result"
    }
   ],
   "source": [
    "def get_y(df):\n",
    "    return torch.Tensor(data[\"Survived\"].values)\n",
    "\n",
    "def get_x(df):\n",
    "    features = [\"Pclass\", \"Sex\", \"Age\", \"SibSp\", \"Parch\"]\n",
    "    dummy_df = pandas.get_dummies(df[features])\n",
    "    return torch.Tensor(dummy_df.values.astype(\"float32\"))\n",
    "\n",
    "y = get_y(train_data)\n",
    "x = get_x(train_data)\n",
    "\n",
    "table_dataset = torch.utils.data.TensorDataset(x, y)\n",
    "table_dataset[0]"
   ]
  }
 ],
 "metadata": {
  "kernelspec": {
   "display_name": "kaggle-competition-titanic-IaMcRpMW",
   "language": "python",
   "name": "python3"
  },
  "language_info": {
   "codemirror_mode": {
    "name": "ipython",
    "version": 3
   },
   "file_extension": ".py",
   "mimetype": "text/x-python",
   "name": "python",
   "nbconvert_exporter": "python",
   "pygments_lexer": "ipython3",
   "version": "3.12.1"
  }
 },
 "nbformat": 4,
 "nbformat_minor": 2
}
